{
  "nbformat": 4,
  "nbformat_minor": 0,
  "metadata": {
    "colab": {
      "provenance": [],
      "authorship_tag": "ABX9TyM6C89iH8Vl8m1XVeybi3T2",
      "include_colab_link": true
    },
    "kernelspec": {
      "name": "python3",
      "display_name": "Python 3"
    },
    "language_info": {
      "name": "python"
    }
  },
  "cells": [
    {
      "cell_type": "markdown",
      "metadata": {
        "id": "view-in-github",
        "colab_type": "text"
      },
      "source": [
        "<a href=\"https://colab.research.google.com/github/kpp6699/Jupyter-Notebook-Project/blob/main/DataScienceEcosystem.ipynb\" target=\"_parent\"><img src=\"https://colab.research.google.com/assets/colab-badge.svg\" alt=\"Open In Colab\"/></a>"
      ]
    },
    {
      "cell_type": "markdown",
      "source": [
        "# Data Science Tools and Ecosystem"
      ],
      "metadata": {
        "id": "ybOxhuUypQaE"
      }
    },
    {
      "cell_type": "markdown",
      "source": [
        "In this notebook, Data Science Tools and Ecosystem are summarized."
      ],
      "metadata": {
        "id": "1ixs8bt2qbFm"
      }
    },
    {
      "cell_type": "markdown",
      "source": [
        "** Objectives: **\n",
        "- Some of the popular languages that Data Scientists uses.\n",
        "- Some of the commonly used libraries used by Data Scientists.\n",
        "- Data Science Tools"
      ],
      "metadata": {
        "id": "1EGGOCJ1x7A3"
      }
    },
    {
      "cell_type": "markdown",
      "source": [
        "Some of the popular languages that Data Scientists use are:\n",
        "1. Python\n",
        "2. R\n",
        "3. SQL"
      ],
      "metadata": {
        "id": "xYs1AWzurH_i"
      }
    },
    {
      "cell_type": "markdown",
      "source": [
        "Some of the commonly used libraries used by Data Scientists include:\n",
        "1. TensorFlow\n",
        "2. NumPy\n",
        "3. SciPy\n",
        "4. Pandas"
      ],
      "metadata": {
        "id": "6NIye9A2shFG"
      }
    },
    {
      "cell_type": "markdown",
      "source": [
        "| Data Science Tools |\n",
        "| ------------------ |\n",
        "| Rstudio |\n",
        "| Apache Spark |\n",
        "| TensorFlow |"
      ],
      "metadata": {
        "id": "Xq5jWdAYumnF"
      }
    },
    {
      "cell_type": "markdown",
      "source": [
        "### Below are a few examples of evaluating arithmetic expressions in Python"
      ],
      "metadata": {
        "id": "HJ4a5A1XwH9r"
      }
    },
    {
      "cell_type": "code",
      "source": [
        "# This a simple arithmetic expression to mutiply then add integers.\n",
        "(3*4)+5"
      ],
      "metadata": {
        "colab": {
          "base_uri": "https://localhost:8080/"
        },
        "id": "D3OaMPcwwfKc",
        "outputId": "653d4522-d658-4651-9306-4c2662e8dcd0"
      },
      "execution_count": 2,
      "outputs": [
        {
          "output_type": "execute_result",
          "data": {
            "text/plain": [
              "17"
            ]
          },
          "metadata": {},
          "execution_count": 2
        }
      ]
    },
    {
      "cell_type": "code",
      "source": [
        "# This will convert 200 minutes to hours by diving by 60.\n",
        "200/60"
      ],
      "metadata": {
        "colab": {
          "base_uri": "https://localhost:8080/"
        },
        "id": "v0UaMurbxJ4T",
        "outputId": "2e23bded-358b-4aa8-ad3b-1b40dbb7e0e8"
      },
      "execution_count": 3,
      "outputs": [
        {
          "output_type": "execute_result",
          "data": {
            "text/plain": [
              "3.3333333333333335"
            ]
          },
          "metadata": {},
          "execution_count": 3
        }
      ]
    },
    {
      "cell_type": "markdown",
      "source": [
        "## Author\n",
        "KP"
      ],
      "metadata": {
        "id": "tfW3HNQhzCeF"
      }
    }
  ]
}